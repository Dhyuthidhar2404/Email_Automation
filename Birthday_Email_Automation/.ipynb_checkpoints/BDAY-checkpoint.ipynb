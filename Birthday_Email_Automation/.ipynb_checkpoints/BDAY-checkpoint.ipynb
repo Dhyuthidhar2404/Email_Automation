{
 "cells": [
  {
   "cell_type": "code",
   "execution_count": 1,
   "id": "c863535c-e24b-4af2-9efb-d01da4a92490",
   "metadata": {
    "tags": []
   },
   "outputs": [],
   "source": [
    "# smtplib is used to send emails via smtp network\n",
    "import smtplib\n",
    "# Both MIME Text and MIMEMultipart are used to create the email message\n",
    "from email.mime.text import MIMEText\n",
    "from email.mime.multipart import MIMEMultipart\n"
   ]
  },
  {
   "cell_type": "code",
   "execution_count": 2,
   "id": "e7a83ea6-0629-40c6-a1de-dd57c33ad08c",
   "metadata": {
    "tags": []
   },
   "outputs": [],
   "source": [
    "smtp_server = 'smtp.gmail.com'\n",
    "smtp_port = 587  # Gmail SMTP port\n",
    "\n",
    "#these both will store the details of server address and port required to connect to the server of gmail"
   ]
  },
  {
   "cell_type": "code",
   "execution_count": 3,
   "id": "670c5553-bc01-4f9c-b861-229dd734da04",
   "metadata": {
    "tags": []
   },
   "outputs": [],
   "source": [
    "sender_email = 'dhyuthi2404@gmail.com'\n",
    "sender_password = 'pbhr zvnn gvkj xzwv'\n",
    "#App password in gmail. We are using it for security."
   ]
  },
  {
   "cell_type": "code",
   "execution_count": 4,
   "id": "e30f5f65-1165-4883-bec8-c1f6c0ff3367",
   "metadata": {
    "tags": []
   },
   "outputs": [],
   "source": [
    "recipient_email = 'dhyuthi2004@gmail.com'"
   ]
  },
  {
   "cell_type": "code",
   "execution_count": 5,
   "id": "acdfb918-709a-43b4-8af8-7e4ed927af2c",
   "metadata": {
    "tags": []
   },
   "outputs": [],
   "source": [
    "message = MIMEMultipart() #object of mimemultipart is created\n",
    "message['From'] = sender_email\n",
    "message['To'] = recipient_email\n",
    "message['Subject'] = 'Test Email from Python'\n"
   ]
  },
  {
   "cell_type": "code",
   "execution_count": 6,
   "id": "379f0b36-f841-41d8-81e2-ec0654c5f61b",
   "metadata": {
    "tags": []
   },
   "outputs": [],
   "source": [
    "body = 'This is a test email sent from Python.'\n",
    "message.attach(MIMEText(body, 'plain'))"
   ]
  },
  {
   "cell_type": "code",
   "execution_count": 7,
   "id": "b4cc3c42-d0c9-40d8-81b2-37e0d548a7c4",
   "metadata": {
    "tags": []
   },
   "outputs": [
    {
     "data": {
      "text/plain": [
       "(235, b'2.7.0 Accepted')"
      ]
     },
     "execution_count": 7,
     "metadata": {},
     "output_type": "execute_result"
    }
   ],
   "source": [
    "server = smtplib.SMTP(smtp_server, smtp_port)\n",
    "server.starttls()  # Start TLS encryption. a TLS (Transport Layer Security) encrypted connection for secure communication\n",
    "server.login(sender_email, sender_password)\n"
   ]
  },
  {
   "cell_type": "code",
   "execution_count": 8,
   "id": "5fd89902-8c9c-4e26-9766-0da1e6e40b2b",
   "metadata": {
    "tags": []
   },
   "outputs": [
    {
     "data": {
      "text/plain": [
       "{}"
      ]
     },
     "execution_count": 8,
     "metadata": {},
     "output_type": "execute_result"
    }
   ],
   "source": [
    "server.sendmail(sender_email, recipient_email, message.as_string())"
   ]
  },
  {
   "cell_type": "code",
   "execution_count": 9,
   "id": "71db0594-2ea8-4aaa-9ddb-9150e8656b18",
   "metadata": {
    "tags": []
   },
   "outputs": [
    {
     "data": {
      "text/plain": [
       "(221,\n",
       " b'2.0.0 closing connection d9443c01a7336-1ef0b9d4b1csm49071205ad.9 - gsmtp')"
      ]
     },
     "execution_count": 9,
     "metadata": {},
     "output_type": "execute_result"
    }
   ],
   "source": [
    "server.quit()\n"
   ]
  },
  {
   "cell_type": "code",
   "execution_count": 10,
   "id": "2b45df82-c053-40f1-9ad1-39a608b3dc59",
   "metadata": {
    "tags": []
   },
   "outputs": [
    {
     "name": "stdout",
     "output_type": "stream",
     "text": [
      "Email sent successfully!\n"
     ]
    }
   ],
   "source": [
    "print(\"Email sent successfully!\") \n"
   ]
  },
  {
   "cell_type": "code",
   "execution_count": 42,
   "id": "210e9f5c-dff4-4a0a-9b0e-9de9b0fa6c6e",
   "metadata": {
    "tags": []
   },
   "outputs": [],
   "source": [
    "def send_birthday_email(name, email):\n",
    "    smtp_server = 'smtp.gmail.com'\n",
    "    smtp_port = 587\n",
    "    sender_email = 'dhyuthi2404@gmail.com'\n",
    "    # sender_password = password here\n",
    "\n",
    "    recipient_email = email\n",
    "\n",
    "    message = MIMEMultipart()\n",
    "    message['From'] = sender_email\n",
    "    message['To'] = recipient_email\n",
    "    message['Subject'] = 'Happy Birthday, {}!'.format(name)\n",
    "\n",
    "    body = 'Dear {},\\n\\nWishing you a fantastic birthday!'.format(name)\n",
    "    message.attach(MIMEText(body, 'plain'))\n",
    "\n",
    "    server = smtplib.SMTP(smtp_server, smtp_port)\n",
    "    server.starttls()\n",
    "    server.login(sender_email, sender_password)\n",
    "    server.sendmail(sender_email, recipient_email, message.as_string())\n",
    "    server.quit()\n",
    "    print(\"Email sent successfully!\") "
   ]
  },
  {
   "cell_type": "code",
   "execution_count": 43,
   "id": "859633bc-6b13-4384-a2e1-8e8e5e242a44",
   "metadata": {
    "tags": []
   },
   "outputs": [
    {
     "data": {
      "text/html": [
       "<div>\n",
       "<style scoped>\n",
       "    .dataframe tbody tr th:only-of-type {\n",
       "        vertical-align: middle;\n",
       "    }\n",
       "\n",
       "    .dataframe tbody tr th {\n",
       "        vertical-align: top;\n",
       "    }\n",
       "\n",
       "    .dataframe thead th {\n",
       "        text-align: right;\n",
       "    }\n",
       "</style>\n",
       "<table border=\"1\" class=\"dataframe\">\n",
       "  <thead>\n",
       "    <tr style=\"text-align: right;\">\n",
       "      <th></th>\n",
       "      <th>Name</th>\n",
       "      <th>Surname</th>\n",
       "      <th>Email</th>\n",
       "      <th>DOB</th>\n",
       "    </tr>\n",
       "  </thead>\n",
       "  <tbody>\n",
       "    <tr>\n",
       "      <th>0</th>\n",
       "      <td>John</td>\n",
       "      <td>Smith</td>\n",
       "      <td>app10flask@gmail.com</td>\n",
       "      <td>10/29/87</td>\n",
       "    </tr>\n",
       "    <tr>\n",
       "      <th>1</th>\n",
       "      <td>Stacy</td>\n",
       "      <td>Spencer</td>\n",
       "      <td>app8flask@gmail.com</td>\n",
       "      <td>02/22/77</td>\n",
       "    </tr>\n",
       "    <tr>\n",
       "      <th>2</th>\n",
       "      <td>Likhitha</td>\n",
       "      <td>Saraswathula</td>\n",
       "      <td>likhitha2302@gmail.com</td>\n",
       "      <td>07/23/02</td>\n",
       "    </tr>\n",
       "    <tr>\n",
       "      <th>3</th>\n",
       "      <td>Dhyuthidhar</td>\n",
       "      <td>Saraswathula</td>\n",
       "      <td>dhyuthi2004@gmail.com</td>\n",
       "      <td>05/11/04</td>\n",
       "    </tr>\n",
       "    <tr>\n",
       "      <th>4</th>\n",
       "      <td>Harvey</td>\n",
       "      <td>Specter</td>\n",
       "      <td>dhyuthi2404@gmail.com</td>\n",
       "      <td>05/11/04</td>\n",
       "    </tr>\n",
       "  </tbody>\n",
       "</table>\n",
       "</div>"
      ],
      "text/plain": [
       "          Name       Surname                   Email       DOB\n",
       "0         John         Smith    app10flask@gmail.com  10/29/87\n",
       "1        Stacy       Spencer     app8flask@gmail.com  02/22/77\n",
       "2     Likhitha  Saraswathula  likhitha2302@gmail.com  07/23/02\n",
       "3  Dhyuthidhar  Saraswathula   dhyuthi2004@gmail.com  05/11/04\n",
       "4       Harvey       Specter   dhyuthi2404@gmail.com  05/11/04"
      ]
     },
     "execution_count": 43,
     "metadata": {},
     "output_type": "execute_result"
    }
   ],
   "source": [
    "import pandas as pd\n",
    "\n",
    "df = pd.read_csv(\"birthday.csv\")\n",
    "df.head()"
   ]
  },
  {
   "cell_type": "code",
   "execution_count": 44,
   "id": "9a57e724-966b-4e7f-b214-4e76b04a733c",
   "metadata": {
    "tags": []
   },
   "outputs": [],
   "source": [
    "import datetime\n",
    "\n",
    "current_month_day = datetime.datetime.now().strftime('%m-%d')\n",
    "\n",
    "df['dob_month_day'] = pd.to_datetime(df['DOB']).dt.strftime('%m-%d')\n",
    "\n",
    "\n",
    "todays_birthdays = df[df['dob_month_day'] == current_month_day]"
   ]
  },
  {
   "cell_type": "code",
   "execution_count": 45,
   "id": "dcee6a8a-8b24-449d-9653-b9faae20465d",
   "metadata": {
    "tags": []
   },
   "outputs": [
    {
     "name": "stdout",
     "output_type": "stream",
     "text": [
      "          Name       Surname                  Email       DOB dob_month_day\n",
      "3  Dhyuthidhar  Saraswathula  dhyuthi2004@gmail.com  05/11/04         05-11\n",
      "4       Harvey       Specter  dhyuthi2404@gmail.com  05/11/04         05-11\n"
     ]
    }
   ],
   "source": [
    "print(todays_birthdays)"
   ]
  },
  {
   "cell_type": "code",
   "execution_count": 46,
   "id": "271e4226-a627-4ce8-aa24-38da39c75775",
   "metadata": {
    "tags": []
   },
   "outputs": [
    {
     "name": "stdout",
     "output_type": "stream",
     "text": [
      "<class 'pandas.core.frame.DataFrame'>\n"
     ]
    }
   ],
   "source": [
    "print(type(todays_birthdays))"
   ]
  },
  {
   "cell_type": "code",
   "execution_count": 47,
   "id": "363d1300-e53d-4c66-ae88-920709f52b30",
   "metadata": {
    "tags": []
   },
   "outputs": [
    {
     "name": "stdout",
     "output_type": "stream",
     "text": [
      "Email sent successfully!\n",
      "Email sent successfully!\n"
     ]
    }
   ],
   "source": [
    "#We created a dataframe which consists of rows that have the birthday same as today.\n",
    "#Now we have iterate over that dataframe(todays_birthdays) and send the mail to them.\n",
    "for row in todays_birthdays.itertuples(index=False):\n",
    "    send_birthday_email(row[0], row[2])"
   ]
  },
  {
   "cell_type": "code",
   "execution_count": null,
   "id": "29427aab-62a0-4207-811f-bed003ac5a8c",
   "metadata": {},
   "outputs": [],
   "source": []
  }
 ],
 "metadata": {
  "kernelspec": {
   "display_name": "Bday Email Kernel",
   "language": "python",
   "name": "bday_email"
  },
  "language_info": {
   "codemirror_mode": {
    "name": "ipython",
    "version": 3
   },
   "file_extension": ".py",
   "mimetype": "text/x-python",
   "name": "python",
   "nbconvert_exporter": "python",
   "pygments_lexer": "ipython3",
   "version": "3.8.10"
  }
 },
 "nbformat": 4,
 "nbformat_minor": 5
}
